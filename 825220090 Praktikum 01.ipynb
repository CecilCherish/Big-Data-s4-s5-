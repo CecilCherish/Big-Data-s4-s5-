{
  "nbformat": 4,
  "nbformat_minor": 0,
  "metadata": {
    "colab": {
      "provenance": []
    },
    "kernelspec": {
      "name": "python3",
      "display_name": "Python 3"
    },
    "language_info": {
      "name": "python"
    }
  },
  "cells": [
    {
      "cell_type": "code",
      "source": [
        "# Nama : Cecillia Cherish Mardjuki\n",
        "# NIM : 825220090"
      ],
      "metadata": {
        "id": "qYkfXF3h5jY8"
      },
      "execution_count": null,
      "outputs": []
    },
    {
      "cell_type": "code",
      "execution_count": null,
      "metadata": {
        "id": "F1e-6O6h1TkI",
        "colab": {
          "base_uri": "https://localhost:8080/"
        },
        "outputId": "7eadcbd8-fd25-40e8-9391-cf778b8f3308"
      },
      "outputs": [
        {
          "output_type": "stream",
          "name": "stdout",
          "text": [
            "Nilai c =  9\n"
          ]
        }
      ],
      "source": [
        "a = 5\n",
        "b = 4\n",
        "c = a + b\n",
        "# memberikan isi kedalam variable\n",
        "print('Nilai c = ', c)\n",
        "# mencetak tulisan seta isi dari variable c"
      ]
    },
    {
      "cell_type": "code",
      "source": [
        "print('Hello World')\n",
        "# mencetak tulisan Hello World"
      ],
      "metadata": {
        "colab": {
          "base_uri": "https://localhost:8080/"
        },
        "id": "xT0NnqdFvOwa",
        "outputId": "1a242a63-8e2b-4d64-e9ad-f61c3c78d243"
      },
      "execution_count": null,
      "outputs": [
        {
          "output_type": "stream",
          "name": "stdout",
          "text": [
            "Hello World\n"
          ]
        }
      ]
    },
    {
      "cell_type": "code",
      "source": [
        "x=5\n",
        "y=6.7\n",
        "# memberikan isi kedalam variseble\n",
        "\n",
        "print('Nilai variable x = ', x)\n",
        "print('Nilai variable y = ', y)\n",
        "# mecetak tulisan serta isi dari variable yang dipanggil"
      ],
      "metadata": {
        "colab": {
          "base_uri": "https://localhost:8080/"
        },
        "id": "xkHvqohTvfp-",
        "outputId": "d4946331-79e7-4aa1-a4db-56b98aa7776f"
      },
      "execution_count": null,
      "outputs": [
        {
          "output_type": "stream",
          "name": "stdout",
          "text": [
            "Nilai variable x =  5\n",
            "Nilai variable y =  6.7\n"
          ]
        }
      ]
    },
    {
      "cell_type": "code",
      "source": [
        "z1 = x + y\n",
        "z2 = x - y\n",
        "z3 = x * y\n",
        "z4 = x / y\n",
        "# memberikan isi kedalam variable\n",
        "\n",
        "print('Nilai variable z1 = ', z1)\n",
        "print('Nilai variable z2 = ', z2)\n",
        "print('Nilai variable z3 = ', z3)\n",
        "print('Nilai variable z4 = ', z4)\n",
        "# mencetak tulisan serta nilai variable yang dipanggil"
      ],
      "metadata": {
        "colab": {
          "base_uri": "https://localhost:8080/"
        },
        "id": "_F7bcBF7vvpa",
        "outputId": "46085ea5-c6cf-4c9b-c0e8-6b794a7a05b4"
      },
      "execution_count": null,
      "outputs": [
        {
          "output_type": "stream",
          "name": "stdout",
          "text": [
            "Nilai variable z1 =  11.7\n",
            "Nilai variable z2 =  -1.7000000000000002\n",
            "Nilai variable z3 =  33.5\n",
            "Nilai variable z4 =  0.7462686567164178\n"
          ]
        }
      ]
    },
    {
      "cell_type": "code",
      "source": [
        "a = 5\n",
        "b = 2\n",
        "# memberikan isi pada variable a dan b\n",
        "c1 = a ** b\n",
        "# ** artinya untuk pangkat, jadi a pangkat b, dan hasilnya akan disimpan pada variable c1\n",
        "c2 = a % b\n",
        "# % untuk menghitung pembagian antara a dan b dan sisa dari pembagian tersebuta akan menjadi nilai dari variable c2\n",
        "\n",
        "print('Nilai variable c1 = ', c1)\n",
        "print('Nilai variable c2 = ', c2)\n",
        "# mencetak tulisan serta nilai variable yang dipanggil"
      ],
      "metadata": {
        "colab": {
          "base_uri": "https://localhost:8080/"
        },
        "id": "xqrs-OkFwWeQ",
        "outputId": "3c32b593-d043-4b1e-89eb-166135ba83b3"
      },
      "execution_count": null,
      "outputs": [
        {
          "output_type": "stream",
          "name": "stdout",
          "text": [
            "Nilai variable c1 =  25\n",
            "Nilai variable c2 =  1\n"
          ]
        }
      ]
    },
    {
      "cell_type": "code",
      "source": [
        "str = 'Belajar pemrograman Python'\n",
        "# str berisi tulisan ini\n",
        "print(str)\n",
        "# mencetak isi dari variable str\n",
        "# str itu string, dan disini variable string digunakan untuk menyimpan isi tulisan"
      ],
      "metadata": {
        "colab": {
          "base_uri": "https://localhost:8080/"
        },
        "id": "YZwXdObJwraP",
        "outputId": "f4ecf2be-080f-4756-d1fa-9933501dd978"
      },
      "execution_count": null,
      "outputs": [
        {
          "output_type": "stream",
          "name": "stdout",
          "text": [
            "Belajar pemrograman Python\n"
          ]
        }
      ]
    },
    {
      "cell_type": "code",
      "source": [
        "import sys\n",
        "print(sys.version)\n",
        "# mengunakan library sys dengan printah import\n",
        "# dan mencetak versi dari sys python"
      ],
      "metadata": {
        "colab": {
          "base_uri": "https://localhost:8080/"
        },
        "id": "TdXgF9nswym_",
        "outputId": "354d79b8-879d-4a6e-908c-a399cc1a0e47"
      },
      "execution_count": null,
      "outputs": [
        {
          "output_type": "stream",
          "name": "stdout",
          "text": [
            "3.10.12 (main, Nov 20 2023, 15:14:05) [GCC 11.4.0]\n"
          ]
        }
      ]
    },
    {
      "cell_type": "code",
      "source": [
        "if 5 > 2:\n",
        "  print('Lima lebih besar dari dua!')\n",
        "# jika memenuhi kriteria dari if maka akan menjalankan print('Lima lebih besar dari dua!') yaitu mencetak tulisan a lebih besar dari dua!"
      ],
      "metadata": {
        "colab": {
          "base_uri": "https://localhost:8080/"
        },
        "id": "vUA8sYcyBx5E",
        "outputId": "fc070586-bf94-4ce9-bf31-2d938fd8e799"
      },
      "execution_count": null,
      "outputs": [
        {
          "output_type": "stream",
          "name": "stdout",
          "text": [
            "Lima lebih besar dari dua!\n"
          ]
        }
      ]
    },
    {
      "cell_type": "code",
      "source": [
        "if 5 > 2:\n",
        "print('Lima lebih besar dari dua!')\n",
        "# jika tidak menggunakan spasi didepan print akan terjadi error"
      ],
      "metadata": {
        "colab": {
          "base_uri": "https://localhost:8080/",
          "height": 110
        },
        "id": "ovxoSQlGCWvh",
        "outputId": "3272fa5a-3cca-47bf-87ae-ad6986aef8d5"
      },
      "execution_count": null,
      "outputs": [
        {
          "output_type": "error",
          "ename": "IndentationError",
          "evalue": "expected an indented block after 'if' statement on line 1 (<ipython-input-1-b9dc3d6dc197>, line 2)",
          "traceback": [
            "\u001b[0;36m  File \u001b[0;32m\"<ipython-input-1-b9dc3d6dc197>\"\u001b[0;36m, line \u001b[0;32m2\u001b[0m\n\u001b[0;31m    print('Lima lebih besar dari dua!')\u001b[0m\n\u001b[0m    ^\u001b[0m\n\u001b[0;31mIndentationError\u001b[0m\u001b[0;31m:\u001b[0m expected an indented block after 'if' statement on line 1\n"
          ]
        }
      ]
    },
    {
      "cell_type": "code",
      "source": [
        "# Ini komentar(comment)\n",
        "print(\"Hello, world!\")\n",
        "print(\"Hello, world!\") #Ini komentar (comment)\n",
        "# penggunaan # untuk comment ini tutorial"
      ],
      "metadata": {
        "colab": {
          "base_uri": "https://localhost:8080/"
        },
        "id": "VyVCHOxdTGqC",
        "outputId": "99f4d3a2-20c4-4d4b-cb0a-10f4b7c28d4e"
      },
      "execution_count": null,
      "outputs": [
        {
          "output_type": "stream",
          "name": "stdout",
          "text": [
            "Hello, world!\n",
            "Hellow, world!\n"
          ]
        }
      ]
    },
    {
      "cell_type": "code",
      "source": [
        "x = 5\n",
        "y = \"Jhon\"\n",
        "z = 3.14\n",
        "# memberikan isi kedalam variable, disini ada tiga jenis isi dari variable yaitu\n",
        "# string(untuk tulisan atau kata ataupun kalimat) dan integer(untuk angka bulat) dan float(untuk angka koma/desimal)\n",
        "\n",
        "print(type(x))\n",
        "print(type(y))\n",
        "print(type(z))\n",
        "# mencetak type/jenis isi dari variable yang diminta yaitu x, y, z"
      ],
      "metadata": {
        "colab": {
          "base_uri": "https://localhost:8080/"
        },
        "id": "AsN9Q1icVq7r",
        "outputId": "534aef67-dd53-4feb-fa4e-2c8099bf3fb0"
      },
      "execution_count": null,
      "outputs": [
        {
          "output_type": "stream",
          "name": "stdout",
          "text": [
            "<class 'int'>\n",
            "<class 'str'>\n",
            "<class 'float'>\n"
          ]
        }
      ]
    },
    {
      "cell_type": "code",
      "source": [
        "x1 = \"Jhon\"\n",
        "x2 = 'John'\n",
        "# Kutip '' dan \" \" memiliki fungsi yang sama, yaitu untuk string\n",
        "print(x1)\n",
        "print(x2)\n",
        "# Mencetak isi dari x1 dan x2"
      ],
      "metadata": {
        "colab": {
          "base_uri": "https://localhost:8080/"
        },
        "id": "EjUfBqoeWFAZ",
        "outputId": "5ada5d4b-a0c8-4080-db2b-4a4a7a18ca59"
      },
      "execution_count": null,
      "outputs": [
        {
          "output_type": "stream",
          "name": "stdout",
          "text": [
            "Jhon\n",
            "John\n"
          ]
        }
      ]
    },
    {
      "cell_type": "code",
      "source": [
        "a = 4\n",
        "A = \"Empat\"\n",
        "# membrikan isi dari variable, ada dua jenis isi yaitu angka(integer) dan huruf(string)\n",
        "print(a)\n",
        "print(A)\n",
        "# ini membuktikan bahwa a dan A itu berbeda dan dapat digunaan bersamaan karena huruf kecil dan huruf besar diaggap variabke yang berbeda"
      ],
      "metadata": {
        "colab": {
          "base_uri": "https://localhost:8080/"
        },
        "id": "PcpRuC1eWpqY",
        "outputId": "0b3f398d-5f67-4bdb-f35b-1b8e4fac3258"
      },
      "execution_count": null,
      "outputs": [
        {
          "output_type": "stream",
          "name": "stdout",
          "text": [
            "4\n",
            "Empat\n"
          ]
        }
      ]
    },
    {
      "cell_type": "code",
      "source": [
        "myvar = \"John\"\n",
        "my_var = \"John\"\n",
        "_my_var = \"John\"\n",
        "myVar = \"John\"\n",
        "MYVAR = \"John\"\n",
        "myvar2 = \"John\"\n",
        "# ini merupakan contoh penggunaan variable yang dapat digunakan"
      ],
      "metadata": {
        "id": "5hYyCVN-YH92",
        "colab": {
          "base_uri": "https://localhost:8080/"
        },
        "outputId": "f91020f8-bafc-4804-912d-f5a30ac99afa"
      },
      "execution_count": null,
      "outputs": [
        {
          "output_type": "stream",
          "name": "stdout",
          "text": [
            "Jin\n",
            "John\n"
          ]
        }
      ]
    },
    {
      "cell_type": "code",
      "source": [
        "2myvar = \"John\"\n",
        "my-var = \"John\"\n",
        "my var = \"John\"\n",
        "# ini merupakan contoh penggunaan variable yang tidak dapat digunakan"
      ],
      "metadata": {
        "colab": {
          "base_uri": "https://localhost:8080/",
          "height": 110
        },
        "id": "tLCEoUEXZj8V",
        "outputId": "0a46ed16-29c4-4850-ab59-40e47c8df5b2"
      },
      "execution_count": null,
      "outputs": [
        {
          "output_type": "error",
          "ename": "SyntaxError",
          "evalue": "invalid decimal literal (<ipython-input-8-0e82719f22b4>, line 1)",
          "traceback": [
            "\u001b[0;36m  File \u001b[0;32m\"<ipython-input-8-0e82719f22b4>\"\u001b[0;36m, line \u001b[0;32m1\u001b[0m\n\u001b[0;31m    2myvar = \"John\"\u001b[0m\n\u001b[0m    ^\u001b[0m\n\u001b[0;31mSyntaxError\u001b[0m\u001b[0;31m:\u001b[0m invalid decimal literal\n"
          ]
        }
      ]
    },
    {
      "cell_type": "code",
      "source": [
        "x, y, z = \"Orange\", \"Banana\", \"Cherry\"\n",
        "# mengisi variable yang berbeda-beda dapat menggunakan koma(,) selain menggunakan Enter pada pengisian variable baru\n",
        "print(x)\n",
        "print(y)\n",
        "print(z)\n",
        "# mencetak nilai yang dipanggil"
      ],
      "metadata": {
        "colab": {
          "base_uri": "https://localhost:8080/"
        },
        "id": "xJMlkukyaHeL",
        "outputId": "49f74b0d-bcfe-4f9c-8206-d3e8542cfbdd"
      },
      "execution_count": null,
      "outputs": [
        {
          "output_type": "stream",
          "name": "stdout",
          "text": [
            "Orange\n",
            "Banana\n",
            "Cherry\n"
          ]
        }
      ]
    },
    {
      "cell_type": "code",
      "source": [
        "x = y = z = \"Orange\"\n",
        "# dapat menggunakan = pada tiap variable yang berbeda tapi memiliki nilai yang sama\n",
        "print(x)\n",
        "print(y)\n",
        "print(z)\n",
        "# mencetak nilai dari variable"
      ],
      "metadata": {
        "id": "UjFP0Khaac0N",
        "colab": {
          "base_uri": "https://localhost:8080/"
        },
        "outputId": "ded3de8a-460c-4881-c644-4fbf816fa243"
      },
      "execution_count": null,
      "outputs": [
        {
          "output_type": "stream",
          "name": "stdout",
          "text": [
            "Orange\n",
            "Orange\n",
            "Orange\n"
          ]
        }
      ]
    },
    {
      "cell_type": "code",
      "source": [
        "fruits = [\"apple\", \"banana\", \"cherry\"]\n",
        "# variable fruits memiliki isi yaitu array [\"apple\", \"banana\", \"cherry\"]\n",
        "# nilai pertama yaitu apple merupakan array 0, banana 1, cherry 2, jadi untuk nilai aray pada nilai pertama dimulai dari 0\n",
        "print(fruits)\n",
        "# mencetak nilai dari variable"
      ],
      "metadata": {
        "colab": {
          "base_uri": "https://localhost:8080/"
        },
        "id": "SNZ3689Mao62",
        "outputId": "05047225-e5d0-4337-aa12-32c6ae0a2c7e"
      },
      "execution_count": null,
      "outputs": [
        {
          "output_type": "stream",
          "name": "stdout",
          "text": [
            "['apple', 'banana', 'cherry']\n"
          ]
        }
      ]
    },
    {
      "cell_type": "code",
      "source": [
        "number = [1,2,3,4,5]\n",
        "# variable number menyimpan nilai berupa array yang berisi angka\n",
        "print(number)\n",
        "# mencetak nilai dari variable"
      ],
      "metadata": {
        "colab": {
          "base_uri": "https://localhost:8080/"
        },
        "id": "5VQLtrXIbAo8",
        "outputId": "32877670-b38c-48f5-e61d-ee24f2367740"
      },
      "execution_count": null,
      "outputs": [
        {
          "output_type": "stream",
          "name": "stdout",
          "text": [
            "[1, 2, 3, 4, 5]\n"
          ]
        }
      ]
    },
    {
      "cell_type": "code",
      "source": [
        "mixed = [1, 'satu', 2, 'dua', 3, 'tiga']\n",
        "# variable number menyimpan nilai berupa array yang dicampur dengan angka(integer) dan kata(string)\n",
        "print(mixed)\n",
        "# mencetak nilai dari variable"
      ],
      "metadata": {
        "colab": {
          "base_uri": "https://localhost:8080/"
        },
        "id": "ODsl3KpcbCDz",
        "outputId": "cc043057-75e4-42de-a40b-8c0e851d6224"
      },
      "execution_count": null,
      "outputs": [
        {
          "output_type": "stream",
          "name": "stdout",
          "text": [
            "[1, 'satu', 2, 'dua', 3, 'tiga']\n"
          ]
        }
      ]
    },
    {
      "cell_type": "code",
      "source": [
        "x, y, z = fruits\n",
        "# disini variable x, y, z memiliki isi yaitu fruits yang merupakan variable yang memiliki isi array diatas tadi\n",
        "print(x)\n",
        "print(y)\n",
        "print(z)\n",
        "# mencetak nilai dari variable, variable yang dipanggil memiliki isi yang memiliki isi array, jika jumlah isi dari array lebih atau kurang dan tidak sesuai dengan jumlah yang dipanggil akan terjadi error"
      ],
      "metadata": {
        "colab": {
          "base_uri": "https://localhost:8080/"
        },
        "id": "9ePCErUKbr4t",
        "outputId": "0482d84f-cdbd-4e97-c170-907ee90c88f0"
      },
      "execution_count": null,
      "outputs": [
        {
          "output_type": "stream",
          "name": "stdout",
          "text": [
            "apple\n",
            "banana\n",
            "cherry\n"
          ]
        }
      ]
    },
    {
      "cell_type": "code",
      "source": [
        "fruits = [\"apple\", \"banana\", \"cherry\"]\n",
        "# variable ini memiliki isi array, dan array itu untuk nilai pertama akan dimulai dari 0\n",
        "print(fruits[0])\n",
        "print(fruits[1])\n",
        "print(fruits[2])\n",
        "print(fruits[-1])\n",
        "print(fruits[-2])\n",
        "# mencetak isi dari array yang di sebutkan yaitu 0, 1, 2, -1, -2\n",
        "# karena array itu dimulai dari 0 dan -1 dan -2 tidak ada maka akan terjadi pengulangan"
      ],
      "metadata": {
        "colab": {
          "base_uri": "https://localhost:8080/"
        },
        "id": "RDYe1wgwb7nl",
        "outputId": "c474891e-e4bd-4b3e-8af5-126280900fd4"
      },
      "execution_count": null,
      "outputs": [
        {
          "output_type": "stream",
          "name": "stdout",
          "text": [
            "apple\n",
            "banana\n",
            "cherry\n",
            "cherry\n",
            "banana\n"
          ]
        }
      ]
    },
    {
      "cell_type": "code",
      "source": [
        "fruits = [\"apple\", \"banana\", \"cherry\", \"orange\", \"kiwi\", \"melon\", \"mango\"]\n",
        "# variable ini berisi array\n",
        "print(fruits[2:5])\n",
        "# ini menggunakan slicing untuk mengambil elemen dari indeks 2 hingga indeks 4 (indeks 5 tidak termasuk) lalu mencetaknya"
      ],
      "metadata": {
        "colab": {
          "base_uri": "https://localhost:8080/"
        },
        "id": "DGJQFv8gcjAH",
        "outputId": "67c59dc3-cb2d-4adc-b152-a62449f29883"
      },
      "execution_count": null,
      "outputs": [
        {
          "output_type": "stream",
          "name": "stdout",
          "text": [
            "['cherry', 'orange', 'kiwi']\n"
          ]
        }
      ]
    },
    {
      "cell_type": "code",
      "source": [
        "fruits = [\"apple\", \"banana\", \"cherry\"]\n",
        "# variable ini berisi array\n",
        "fruits.append(\"orange\")\n",
        "# ini untuk menamnbahkan isi kedalam array milik fruits dari urutan terakhir\n",
        "print(fruits)\n",
        "# mencetak isi dari variable fruits"
      ],
      "metadata": {
        "colab": {
          "base_uri": "https://localhost:8080/"
        },
        "id": "498ZP4Iwdg9r",
        "outputId": "9ff7c450-035a-47d7-90e2-f0986c66a23e"
      },
      "execution_count": null,
      "outputs": [
        {
          "output_type": "stream",
          "name": "stdout",
          "text": [
            "['apple', 'banana', 'cherry', 'orange']\n"
          ]
        }
      ]
    },
    {
      "cell_type": "code",
      "source": [
        "fruits = [\"apple\", \"banana\", \"cherry\"]\n",
        "# variable ini berisi array\n",
        "fruits.insert(1, \"orange\")\n",
        "# ini untuk menamnbahkan isi kedalam array milik fruits dari ke urutan index 1, sehingga nilai yang lain ikut tergeser\n",
        "print(fruits)\n",
        "# mencetak isi dari variable fruits"
      ],
      "metadata": {
        "colab": {
          "base_uri": "https://localhost:8080/"
        },
        "id": "kNRS8wuJdva5",
        "outputId": "6347dda4-7772-4523-f116-fcf3b2cbb166"
      },
      "execution_count": null,
      "outputs": [
        {
          "output_type": "stream",
          "name": "stdout",
          "text": [
            "['apple', 'orange', 'banana', 'cherry']\n"
          ]
        }
      ]
    },
    {
      "cell_type": "code",
      "source": [
        "fruits = [\"apple\", \"banana\", \"cherry\"]\n",
        "# variable ini berisi array\n",
        "fruits[1] = \"blackcurrant\"\n",
        "# menggantikan array index 1 dengan blackcurrant\n",
        "print(fruits)\n",
        "# mencetak isi dari array fruits"
      ],
      "metadata": {
        "colab": {
          "base_uri": "https://localhost:8080/"
        },
        "id": "lQuern2Kd5TM",
        "outputId": "f280643f-cdff-4a29-c6b0-7d8a7001a2b6"
      },
      "execution_count": null,
      "outputs": [
        {
          "output_type": "stream",
          "name": "stdout",
          "text": [
            "['apple', 'blackcurrant', 'cherry']\n"
          ]
        }
      ]
    },
    {
      "cell_type": "code",
      "source": [
        "fruits = [\"apple\", \"banana\", \"cherry\", \"orange\", \"kiwi\", \"mango\"]\n",
        "fruits[1:3] = [\"blackcurrant\", \"watermelon\"]\n",
        "# ini akan mengantikan isi dari array index 1 sampai ke 2(3 tidak termasuk)\n",
        "print(fruits)\n",
        "# mencetak isi dari array fruits"
      ],
      "metadata": {
        "colab": {
          "base_uri": "https://localhost:8080/"
        },
        "id": "VX6BSBWVeFNi",
        "outputId": "92ff6915-98bf-4fe7-e60d-8aa64b79a90b"
      },
      "execution_count": null,
      "outputs": [
        {
          "output_type": "stream",
          "name": "stdout",
          "text": [
            "['apple', 'blackcurrant', 'watermelon', 'orange', 'kiwi', 'mango']\n"
          ]
        }
      ]
    },
    {
      "cell_type": "code",
      "source": [
        "x = \"awesome\"\n",
        "print(\"Python is \" + x)\n",
        "# menampilkan tulisan serta pengambilan dari nilai x"
      ],
      "metadata": {
        "colab": {
          "base_uri": "https://localhost:8080/"
        },
        "id": "lPoBk7m-evfR",
        "outputId": "677c1b87-16d8-4304-9919-e2430de3299c"
      },
      "execution_count": null,
      "outputs": [
        {
          "output_type": "stream",
          "name": "stdout",
          "text": [
            "Python is awesome\n"
          ]
        }
      ]
    },
    {
      "cell_type": "code",
      "source": [
        "x = \"awesome\"\n",
        "print(\"Python is \", x)\n",
        "# menampilkan tulisan serta pengambilan dari nilai x"
      ],
      "metadata": {
        "colab": {
          "base_uri": "https://localhost:8080/"
        },
        "id": "vDahOExbfiKI",
        "outputId": "6e8b385d-be3a-457a-d0e3-b085ab73d006"
      },
      "execution_count": null,
      "outputs": [
        {
          "output_type": "stream",
          "name": "stdout",
          "text": [
            "Python is  awesome\n"
          ]
        }
      ]
    },
    {
      "cell_type": "code",
      "source": [
        "x = \"Python is \"\n",
        "y = \"awesome\"\n",
        "z = x + y\n",
        "#  menggabungkan nilai variable x dan y lalu menyimpannya pada variable z\n",
        "print(z)\n",
        "#  mencetak variable z"
      ],
      "metadata": {
        "colab": {
          "base_uri": "https://localhost:8080/"
        },
        "id": "0Zk-aEJlf1e2",
        "outputId": "921be5cf-3d76-41ec-9c23-773c24e6884f"
      },
      "execution_count": null,
      "outputs": [
        {
          "output_type": "stream",
          "name": "stdout",
          "text": [
            "Python is awesome\n"
          ]
        }
      ]
    },
    {
      "cell_type": "code",
      "source": [
        "x = 5\n",
        "y = 10\n",
        "print(x + y)\n",
        "# mencetak hasil dari x + y"
      ],
      "metadata": {
        "colab": {
          "base_uri": "https://localhost:8080/"
        },
        "id": "2V6ixeQfgWtN",
        "outputId": "17c7c56d-35fb-4ff0-8e88-1014002731a5"
      },
      "execution_count": null,
      "outputs": [
        {
          "output_type": "stream",
          "name": "stdout",
          "text": [
            "15\n"
          ]
        }
      ]
    },
    {
      "cell_type": "code",
      "source": [
        "x = 5\n",
        "y = \"Lima\"\n",
        "print(x + y)\n",
        "# mencetak hasil dari x + y, terjadi error karena hanya variable dengan variable dan angka dengan angka jika ingin di gabungkan"
      ],
      "metadata": {
        "id": "3Z05HmILgjnV"
      },
      "execution_count": null,
      "outputs": []
    },
    {
      "cell_type": "code",
      "source": [
        "x = (\"apple\", \"banana\", \"cherry\")\n",
        "print(x)\n",
        "# mencetak nilai dari x yang berisi benerapa kata mirip array"
      ],
      "metadata": {
        "colab": {
          "base_uri": "https://localhost:8080/"
        },
        "id": "h3JCebS8hNOK",
        "outputId": "508a0bc6-3bd9-41e3-c238-9e7226560bb5"
      },
      "execution_count": null,
      "outputs": [
        {
          "output_type": "stream",
          "name": "stdout",
          "text": [
            "('apple', 'banana', 'cherry')\n"
          ]
        }
      ]
    },
    {
      "cell_type": "code",
      "source": [
        "x = range(6)\n",
        "print(x)\n",
        "# mencetak rentang nilai dari 6, yang dimualai dari 0"
      ],
      "metadata": {
        "colab": {
          "base_uri": "https://localhost:8080/"
        },
        "id": "GQnWkeXkhZOr",
        "outputId": "bc66fe33-61be-4c04-8713-056fd16f3ddc"
      },
      "execution_count": null,
      "outputs": [
        {
          "output_type": "stream",
          "name": "stdout",
          "text": [
            "range(0, 6)\n"
          ]
        }
      ]
    },
    {
      "cell_type": "code",
      "source": [
        "x = {\"name\" : \"Jhon\", \"age\" : 36}\n",
        "print(x)\n",
        "# mencetak nilai dari x yang menggunakan : dan , dan tetap tercetak sama persis dengan isinya"
      ],
      "metadata": {
        "colab": {
          "base_uri": "https://localhost:8080/"
        },
        "id": "06XJTJFyhhnA",
        "outputId": "123d2dd0-6d57-4ede-c65c-bb21cab9355c"
      },
      "execution_count": null,
      "outputs": [
        {
          "output_type": "stream",
          "name": "stdout",
          "text": [
            "{'name': 'Jhon', 'age': 36}\n"
          ]
        }
      ]
    },
    {
      "cell_type": "code",
      "source": [
        "x = {\"apple\", \"banana\", \"cherry\"}\n",
        "print(x)\n",
        "# mencetak nilai dari x"
      ],
      "metadata": {
        "colab": {
          "base_uri": "https://localhost:8080/",
          "height": 0
        },
        "id": "fAMUG5nUhvjC",
        "outputId": "917a473c-a418-4b0a-a6d4-4c9c2bfc53b1"
      },
      "execution_count": 1,
      "outputs": [
        {
          "output_type": "stream",
          "name": "stdout",
          "text": [
            "{'banana', 'apple', 'cherry'}\n"
          ]
        }
      ]
    },
    {
      "cell_type": "code",
      "source": [
        "x = frozenset({\"apple\", \"banana\", \"cherry\"})\n",
        "print(x)\n",
        "# mencetak nilai dari x tapi nilainya tidak akan berubah"
      ],
      "metadata": {
        "colab": {
          "base_uri": "https://localhost:8080/"
        },
        "id": "jvTUmCwqiPnp",
        "outputId": "94b9a0e9-e549-40a2-f3a7-57591636a54f"
      },
      "execution_count": null,
      "outputs": [
        {
          "output_type": "stream",
          "name": "stdout",
          "text": [
            "frozenset({'cherry', 'apple', 'banana'})\n"
          ]
        }
      ]
    },
    {
      "cell_type": "code",
      "source": [
        "x = True\n",
        "print(x)\n",
        "# mencetak nilai dari x"
      ],
      "metadata": {
        "colab": {
          "base_uri": "https://localhost:8080/"
        },
        "id": "AFBdK273idXE",
        "outputId": "de86f7a8-dfb4-4e19-d52a-4795201e341b"
      },
      "execution_count": null,
      "outputs": [
        {
          "output_type": "stream",
          "name": "stdout",
          "text": [
            "True\n"
          ]
        }
      ]
    },
    {
      "cell_type": "code",
      "source": [
        "x = b\"Hello\"\n",
        "print(x)\n",
        "# mencetak nilai dari x bisa mencetak b dan Hello, karena yang dibaca hanya ' ' maka tercetak ' ' sisanya untuk tulisan Hello"
      ],
      "metadata": {
        "colab": {
          "base_uri": "https://localhost:8080/"
        },
        "id": "dlHyMUUEilM4",
        "outputId": "c025ae29-2022-435b-e791-56f013318cb6"
      },
      "execution_count": null,
      "outputs": [
        {
          "output_type": "stream",
          "name": "stdout",
          "text": [
            "b'Hello'\n"
          ]
        }
      ]
    },
    {
      "cell_type": "code",
      "source": [
        "x = bytearray(5)\n",
        "print(x)\n",
        "# mencetak nilai dari x yaitu byte dari ukuran array 5"
      ],
      "metadata": {
        "colab": {
          "base_uri": "https://localhost:8080/"
        },
        "id": "pVTFATBDisAH",
        "outputId": "45281389-fc90-4fd8-8264-42d7e126c88f"
      },
      "execution_count": null,
      "outputs": [
        {
          "output_type": "stream",
          "name": "stdout",
          "text": [
            "bytearray(b'\\x00\\x00\\x00\\x00\\x00')\n"
          ]
        }
      ]
    },
    {
      "cell_type": "code",
      "source": [
        "x = memoryview(bytes(5))\n",
        "print(x)\n",
        "# mencetak nilai dari x, yaitu memory dari 5 byte"
      ],
      "metadata": {
        "colab": {
          "base_uri": "https://localhost:8080/"
        },
        "id": "pXQ4k7KLi0ST",
        "outputId": "4ec3b221-7786-42dc-a2d7-776a975c5240"
      },
      "execution_count": null,
      "outputs": [
        {
          "output_type": "stream",
          "name": "stdout",
          "text": [
            "<memory at 0x7a795ab92ec0>\n"
          ]
        }
      ]
    },
    {
      "cell_type": "code",
      "source": [
        "# python casting\n",
        "x = int(1)      # nilainya angka bulat\n",
        "y = int(2.8)    # nilainya angka desimal\n",
        "z = int(\"3\")    # nilainya huruf/string walaupun angka karena menggunakan \" \"\n",
        "# tapi semuanya dideklarasikan sebagai integer yaitu untuk angka bulat\n",
        "\n",
        "print('x = ' , x)\n",
        "print('y = ' , y)\n",
        "print('z = ' , z)\n",
        "# mencetak masing-masing isi dari variable,\n",
        "# karena dideklarasi sebagai int maka semua nilai dianggap sebagai angka bulat/ dijadikan angka bulat dan dibulatkan ke bawah"
      ],
      "metadata": {
        "colab": {
          "base_uri": "https://localhost:8080/",
          "height": 0
        },
        "id": "U8IUHx_oi_OZ",
        "outputId": "a0ae69a5-bdcc-44f8-9b96-2f06ee11536c"
      },
      "execution_count": 3,
      "outputs": [
        {
          "output_type": "stream",
          "name": "stdout",
          "text": [
            "x =  1\n",
            "y =  2\n",
            "z =  3\n"
          ]
        }
      ]
    },
    {
      "cell_type": "code",
      "source": [
        "x = float(1)      # nilai angkanya bulat\n",
        "y = float(2.8)    # nilai angkanya desimal\n",
        "z = float(\"3\")    # nilai angkanya bulat tapi menggunakan \" \" yang biasanya untuk string\n",
        "w = float(\"4.2\")  # nilai angkanya desimal tapi menggunakan \" \" yang biasanya untuk string\n",
        "# dan semua dideklarasi sebagai float yaitu decimal\n",
        "\n",
        "print(x)\n",
        "print(y)\n",
        "print(z)\n",
        "print(w)\n",
        "# mencetak nilai dari masing-masing variable\n",
        "# karena dideklarasi sebagai float yaitu decimal maka semua nilainya akan dianggap atau dirubah menjadi decimal"
      ],
      "metadata": {
        "colab": {
          "base_uri": "https://localhost:8080/"
        },
        "id": "D21CprMRjZ8w",
        "outputId": "e270d64a-282f-4305-de0c-9d429670d872"
      },
      "execution_count": null,
      "outputs": [
        {
          "output_type": "stream",
          "name": "stdout",
          "text": [
            "1.0\n",
            "2.8\n",
            "3.0\n",
            "4.2\n"
          ]
        }
      ]
    },
    {
      "cell_type": "code",
      "source": [
        "# mengiris string\n",
        "b = \"Selamat makan\"\n",
        "# sama seperti array index dimulai dari 0\n",
        "print(b[2:5])\n",
        "# mengiris isi dari variable b yang berupa kalimat, yaitu karakter ke-2 hingga karakter ke-4 (indeks 5 tidak termasuk) saja\n",
        "# Indeks 2 adalah \"l\", indeks 3 adalah \"a\", dan indeks 4 adalah \"m\"\n",
        "# dan mencetaknya"
      ],
      "metadata": {
        "colab": {
          "base_uri": "https://localhost:8080/"
        },
        "id": "za9JNrazjyaW",
        "outputId": "75343489-0a1d-49ed-e149-5e8a650fc89b"
      },
      "execution_count": null,
      "outputs": [
        {
          "output_type": "stream",
          "name": "stdout",
          "text": [
            "lam\n"
          ]
        }
      ]
    },
    {
      "cell_type": "code",
      "source": [
        "b = \"Selamat makan\"\n",
        "print(b[:5])\n",
        "# mengambil karakter dari indeks 0 hingga 4 (indeks 5 tidak termasuk) dan mencetaknya"
      ],
      "metadata": {
        "colab": {
          "base_uri": "https://localhost:8080/"
        },
        "id": "nVskoPw6j8Q4",
        "outputId": "910aa2f7-4792-4fd3-9b18-16ec0970657c"
      },
      "execution_count": null,
      "outputs": [
        {
          "output_type": "stream",
          "name": "stdout",
          "text": [
            "Selam\n"
          ]
        }
      ]
    },
    {
      "cell_type": "code",
      "source": [
        "fruits = [\"apple\", \"banana\", \"cherry\"]\n",
        "tropical = [\"mango\", \"pinaple\", \"papaya\"]\n",
        "fruits.extend(tropical)\n",
        "print(fruits)\n",
        "# menambahkan isi dari variable fruits dengan isi dari variable tropical dan mencetaknya"
      ],
      "metadata": {
        "colab": {
          "base_uri": "https://localhost:8080/"
        },
        "id": "PJQPuzqHkEL5",
        "outputId": "9758eee1-ffa4-48d7-8e63-69633a2db918"
      },
      "execution_count": null,
      "outputs": [
        {
          "output_type": "stream",
          "name": "stdout",
          "text": [
            "['apple', 'banana', 'cherry', 'mango', 'pinaple', 'papaya']\n"
          ]
        }
      ]
    },
    {
      "cell_type": "code",
      "source": [
        "# menghapus elemen list\n",
        "fruits = [\"apple\", \"banana\", \"cherry\"]\n",
        "fruits.remove(\"banana\")\n",
        "# kita dapat menggunakan .remove untuk menghapus nilai pada array\n",
        "print(fruits)\n",
        "#  dan lalu ini untuk mencetak nilai dari fruits"
      ],
      "metadata": {
        "colab": {
          "base_uri": "https://localhost:8080/"
        },
        "id": "EiTRGQ3xkdI1",
        "outputId": "2f831bb6-edbb-4194-98af-e81429316bfc"
      },
      "execution_count": null,
      "outputs": [
        {
          "output_type": "stream",
          "name": "stdout",
          "text": [
            "['apple', 'cherry']\n"
          ]
        }
      ]
    },
    {
      "cell_type": "code",
      "source": [
        "# IF ELSE\n",
        "a = 33\n",
        "b = 200\n",
        "if b > a:\n",
        "  print(\"b is greater than a\")\n",
        "#  jika ketentuan if terpenuhi maka akan melakukan langkah selanjutnya yaitu mecetak tulisan b is greater than a"
      ],
      "metadata": {
        "colab": {
          "base_uri": "https://localhost:8080/"
        },
        "id": "f7tz6qCJlFnb",
        "outputId": "77d35afc-7105-4e88-87a6-c1d10c605730"
      },
      "execution_count": null,
      "outputs": [
        {
          "output_type": "stream",
          "name": "stdout",
          "text": [
            "b is greater than a\n"
          ]
        }
      ]
    },
    {
      "cell_type": "code",
      "source": [
        "a = 200\n",
        "b = 33\n",
        "if b > a:\n",
        "  print(\"b is greater than a\")\n",
        "else:\n",
        "  print(\"b is not greater than a\")\n",
        "# jika ketentuan(if) b > a terpenuhi maka akan dijalankan perintah mencetak print(\"b is greater than a\"),\n",
        "# namun jika tidak terpenuhi(else) maka akan dijalankan perintah mencetak print(\"b is not greater than a\")"
      ],
      "metadata": {
        "colab": {
          "base_uri": "https://localhost:8080/"
        },
        "id": "YjzaOQIdlgb_",
        "outputId": "fe43d513-91ff-4cff-f5d1-357f6ec1b756"
      },
      "execution_count": null,
      "outputs": [
        {
          "output_type": "stream",
          "name": "stdout",
          "text": [
            "b is not greater than a\n"
          ]
        }
      ]
    },
    {
      "cell_type": "code",
      "source": [
        "# AND\n",
        "a = 200\n",
        "b = 33\n",
        "c = 500\n",
        "if a > b and c > a:\n",
        "  print(\"Both conditions are True\")\n",
        "# jika ketentuan(if) a > b dan and c > a terpenuhi keduanya, maka akan mencetak print(\"Both conditions are True\")"
      ],
      "metadata": {
        "colab": {
          "base_uri": "https://localhost:8080/"
        },
        "id": "P_Dv-gaglzt5",
        "outputId": "3f2e0356-a787-4180-acc9-75b37edb10cf"
      },
      "execution_count": null,
      "outputs": [
        {
          "output_type": "stream",
          "name": "stdout",
          "text": [
            "Both conditions are True\n"
          ]
        }
      ]
    },
    {
      "cell_type": "code",
      "source": [
        "# OR\n",
        "a = 200\n",
        "b = 33\n",
        "c = 500\n",
        "if a > b or a > c:\n",
        "  print(\"At last one of the conditions are True\")\n",
        "# jika ketentuan(if) a > b atau a > c terpenuhi salah satunya saja, maka maka akan mencetak print(\"At last one of the conditions are True\")"
      ],
      "metadata": {
        "id": "IvQaVJ_kmHIo"
      },
      "execution_count": null,
      "outputs": []
    },
    {
      "cell_type": "code",
      "source": [
        "# Nested if\n",
        "x = 41\n",
        "\n",
        "if x > 10:\n",
        "  print(\"Above ten, \")\n",
        "  if x > 20:\n",
        "    print(\"and also above 20!\")\n",
        "  else:\n",
        "    print(\"but not above 20.\")\n",
        "# jika ketentuan(if) x > 10 terpenuhi maka akan mencetak print(\"Above ten, \")\n",
        "# dan akan ditanyakan ketentuan berikutnya yaitu jika ketentuan(if) x > 20 terpenuhi maka akan mencetak print(\"and also above 20!\")\n",
        "# dan jika ketentuan tadi tidak terpenuhi maka akan mencetak print(\"but not above 20.\")"
      ],
      "metadata": {
        "id": "SE8svs8XmxYZ",
        "colab": {
          "base_uri": "https://localhost:8080/"
        },
        "outputId": "a0f59f51-6533-45b2-9c6c-328365d576d3"
      },
      "execution_count": null,
      "outputs": [
        {
          "output_type": "stream",
          "name": "stdout",
          "text": [
            "Above ten, \n",
            "and also above 20!\n"
          ]
        }
      ]
    },
    {
      "cell_type": "code",
      "source": [
        "# while loop\n",
        "i = 1\n",
        "while i < 6:\n",
        "  print(i)\n",
        "  i += 1\n",
        "# ketika nilai i < 6 maka akan dilakukan pencetakan print(i) dan ada increment yang akan terus manambahkan nilai i (i+1) secara berlanjut sampai ketentuan i < 6 terpenuhi"
      ],
      "metadata": {
        "colab": {
          "base_uri": "https://localhost:8080/"
        },
        "id": "OO_n5nlgNjEB",
        "outputId": "9c10a031-dbaa-46b8-93d4-778be9127a60"
      },
      "execution_count": null,
      "outputs": [
        {
          "output_type": "stream",
          "name": "stdout",
          "text": [
            "1\n",
            "2\n",
            "3\n",
            "4\n",
            "5\n"
          ]
        }
      ]
    },
    {
      "cell_type": "code",
      "source": [
        "i = 1\n",
        "while i < 6:\n",
        "  print(i)\n",
        "  if i == 3:\n",
        "    break\n",
        "  i += 1\n",
        "# ketika nilai i < 6 maka akan mencetak print(i), lalu jika ketentuan(if) i == 3 maka akan berhenti(break) disini juga ada increment penambahan nilai i"
      ],
      "metadata": {
        "colab": {
          "base_uri": "https://localhost:8080/"
        },
        "id": "gn2d17YcOFPI",
        "outputId": "2c0f29ca-0658-4dde-eaef-629476bcbe8c"
      },
      "execution_count": null,
      "outputs": [
        {
          "output_type": "stream",
          "name": "stdout",
          "text": [
            "1\n",
            "2\n",
            "3\n"
          ]
        }
      ]
    },
    {
      "cell_type": "code",
      "source": [
        "i = 0\n",
        "while i < 6:\n",
        "  i += 1\n",
        "  if i == 3:\n",
        "    continue\n",
        "  print(i)\n",
        "# ketika(while) i < 6 maka akan dilakukan increment penambahan nilai i, lalu jika ketentuan(if) i==3 terpenuhi maka akan dilanjutkan dan mencetak print(i)/ mencetak nilai i"
      ],
      "metadata": {
        "colab": {
          "base_uri": "https://localhost:8080/"
        },
        "id": "nO7u0eKYOGyb",
        "outputId": "0f8e4732-932a-44cb-c7f4-756503a5cec6"
      },
      "execution_count": null,
      "outputs": [
        {
          "output_type": "stream",
          "name": "stdout",
          "text": [
            "1\n",
            "2\n",
            "4\n",
            "5\n",
            "6\n"
          ]
        }
      ]
    },
    {
      "cell_type": "code",
      "source": [
        "# for loops\n",
        "fruits = [\"apple\", \"banana\", \"cherry\"]\n",
        "for x in fruits:\n",
        "  print(x)\n",
        "# untuk x didalam variable fruits akan di cetak, atau semua isi dari fruits akan dicetak terus sampai semuanya"
      ],
      "metadata": {
        "colab": {
          "base_uri": "https://localhost:8080/"
        },
        "id": "h8vhJN63OW8P",
        "outputId": "31ddf46c-081a-467b-bd5a-cda2b76aa3f6"
      },
      "execution_count": null,
      "outputs": [
        {
          "output_type": "stream",
          "name": "stdout",
          "text": [
            "apple\n",
            "banana\n",
            "cherry\n"
          ]
        }
      ]
    },
    {
      "cell_type": "code",
      "source": [
        "for x in \"banana\":\n",
        "  print(x)\n",
        "# untuk x didalam string kata banana akan dicetak per hurufnya terus sampai habis, karena setiap huruf dari banana akan terus menggantikan nilai x untuk dicetak"
      ],
      "metadata": {
        "colab": {
          "base_uri": "https://localhost:8080/"
        },
        "id": "0MLzsWQsOuhW",
        "outputId": "0e878ab9-973d-42ba-cba5-273fc1f52a01"
      },
      "execution_count": null,
      "outputs": [
        {
          "output_type": "stream",
          "name": "stdout",
          "text": [
            "b\n",
            "a\n",
            "n\n",
            "a\n",
            "n\n",
            "a\n"
          ]
        }
      ]
    },
    {
      "cell_type": "code",
      "source": [
        "fruits = [\"apple\", \"banana\", \"cherry\"]\n",
        "for x in fruits:\n",
        "  print(x)\n",
        "  if x == \"banana\":\n",
        "    break\n",
        "# untuk x didalam variable array fruits akan terus digantikan nilai x dengan nilai array fruits terus, lalu mencetak print(x) yaitu nilai dari array fruits,\n",
        "# lalu jika memenuhi ketentuan(if) x==banana maka akan berhenti sampai situ saja\n",
        "# dan disini banana masih sempat tercetak(print) karena dia masih sempat dicetak(print) sebelum di berhentikan (break)"
      ],
      "metadata": {
        "colab": {
          "base_uri": "https://localhost:8080/"
        },
        "id": "UKtu9bPrO5kD",
        "outputId": "311e3acb-0b91-4d5a-a2c1-5baf7832bff3"
      },
      "execution_count": null,
      "outputs": [
        {
          "output_type": "stream",
          "name": "stdout",
          "text": [
            "apple\n",
            "banana\n"
          ]
        }
      ]
    },
    {
      "cell_type": "code",
      "source": [
        "fruits = [\"apple\", \"banana\", \"cherry\"]\n",
        "for x in fruits:\n",
        "  if x == \"banana\":\n",
        "    break\n",
        "  print(x)\n",
        "# untuk x didalam variable array fruits akan terus digantikan nilai x dengan nilai fruits terus\n",
        "# lalu jika memenuhi ketentuan(if) x==banana maka akan berhenti sampai situ saja, setelah itu lalu di cetak print(x)\n",
        "# dan disini banana tidak sempat tercetak(print) karena dia belum sempat dicetak(print) tapi sudah di berhentikan (break)"
      ],
      "metadata": {
        "colab": {
          "base_uri": "https://localhost:8080/"
        },
        "id": "wt8mEzw5PT58",
        "outputId": "ff683c36-054a-4f9b-b841-f233ad043c4f"
      },
      "execution_count": null,
      "outputs": [
        {
          "output_type": "stream",
          "name": "stdout",
          "text": [
            "apple\n"
          ]
        }
      ]
    },
    {
      "cell_type": "code",
      "source": [
        "fruits = [\"apple\", \"banana\", \"cherry\"]\n",
        "for x in fruits:\n",
        "  if x == \"banana\":\n",
        "    continue\n",
        "  print(x)\n",
        "# untuk x didalam variable array fruits akan terus digantikan nilai x dengan nilai fruits terus\n",
        "# lalu jika memenuhi ketentuan(if) x==banana maka akan dilanjutkan(continue) ke nilai berikutnya seperti di skip\n",
        "# sehingga nilai banana tidak sempat di cetak print(x) dan langsung lanjut mencetak nilai cherry"
      ],
      "metadata": {
        "colab": {
          "base_uri": "https://localhost:8080/",
          "height": 0
        },
        "id": "CGo0wE76PwPD",
        "outputId": "316ba07f-1d66-4237-da8f-608bf81cf3ee"
      },
      "execution_count": 1,
      "outputs": [
        {
          "output_type": "stream",
          "name": "stdout",
          "text": [
            "apple\n",
            "cherry\n"
          ]
        }
      ]
    },
    {
      "cell_type": "code",
      "source": [
        "for x in range(6):\n",
        "  print(x)\n",
        "# untuk nilai x akan terus digantikan oleh nilai jarak angka ke 6, yaitu 0 sampai 6 (tapi 6 tidak ikut)\n",
        "# lalu mencetak print(x)"
      ],
      "metadata": {
        "colab": {
          "base_uri": "https://localhost:8080/"
        },
        "id": "qNM3GS_AP-mK",
        "outputId": "2583c68b-93b6-4643-9151-369f22acf0d2"
      },
      "execution_count": null,
      "outputs": [
        {
          "output_type": "stream",
          "name": "stdout",
          "text": [
            "0\n",
            "1\n",
            "2\n",
            "3\n",
            "4\n",
            "5\n"
          ]
        }
      ]
    },
    {
      "cell_type": "code",
      "source": [
        "for x in range(2, 6):\n",
        "  print(x)\n",
        "# untuk nilai x akan terus digantikan oleh nilai jarak angka dari 2 ke 6, yaitu 2 sampai 6 (tapi 6 tidak ikut)\n",
        "# lalu mencetak print(x)"
      ],
      "metadata": {
        "colab": {
          "base_uri": "https://localhost:8080/"
        },
        "id": "LYgk46lbQN_Q",
        "outputId": "b3745c6b-48d2-4bc6-b194-30f011aac649"
      },
      "execution_count": null,
      "outputs": [
        {
          "output_type": "stream",
          "name": "stdout",
          "text": [
            "2\n",
            "3\n",
            "4\n",
            "5\n"
          ]
        }
      ]
    },
    {
      "cell_type": "code",
      "source": [
        "for x in range(2, 30, 3):\n",
        "  print(x)\n",
        "# untuk nilai x akan terus digantikan oleh nilai jarak angka dari 2 ke 3, yaitu 2 sampai 6 (tapi 30 tidak ikut) dengan rentang 3 angka\n",
        "# lalu mencetak print(x)"
      ],
      "metadata": {
        "colab": {
          "base_uri": "https://localhost:8080/"
        },
        "id": "UUIIZEMJQU1-",
        "outputId": "6235acde-f849-4868-8baf-4d173c2d831f"
      },
      "execution_count": null,
      "outputs": [
        {
          "output_type": "stream",
          "name": "stdout",
          "text": [
            "2\n",
            "5\n",
            "8\n",
            "11\n",
            "14\n",
            "17\n",
            "20\n",
            "23\n",
            "26\n",
            "29\n"
          ]
        }
      ]
    },
    {
      "cell_type": "code",
      "source": [
        "adj = [\"red\", \"big\", \"tasty\"]\n",
        "fruits = [\"apple\", \"banana\", \"cherry\"]\n",
        "# variable menyimpan array\n",
        "\n",
        "for x in adj:\n",
        "  for y in fruits:\n",
        "    print(x, y)\n",
        "# untuk x nilainya akan terus digantikan dengan nilai dari variable adj,\n",
        "# lalu untuk nilai y akan terus digantikan dengan nilai dari variable fruits dan mencetak print(x, y) yaitu nilai dari array adj dan fruits secara bersamaan sampai semua sudah tercetak atau sudah digantika kedalam variable x dan y"
      ],
      "metadata": {
        "colab": {
          "base_uri": "https://localhost:8080/"
        },
        "id": "FMIpidIoQZxt",
        "outputId": "e5c16586-e4ed-4a5a-c635-9137d1ff5ad4"
      },
      "execution_count": null,
      "outputs": [
        {
          "output_type": "stream",
          "name": "stdout",
          "text": [
            "red apple\n",
            "red banana\n",
            "red cherry\n",
            "big apple\n",
            "big banana\n",
            "big cherry\n",
            "tasty apple\n",
            "tasty banana\n",
            "tasty cherry\n"
          ]
        }
      ]
    },
    {
      "cell_type": "code",
      "source": [
        "# functions\n",
        "def my_function():\n",
        "  print(\"Hello from a function\")\n",
        "# mendefinisikan fungsi dan fungsi memiliki perintah untuk mencetak tulisan Hello from a function"
      ],
      "metadata": {
        "id": "vas2Bvf4RYNg"
      },
      "execution_count": null,
      "outputs": []
    },
    {
      "cell_type": "code",
      "source": [
        "# ini untuk memanggil fungsi my_function yang telah didefinisikan diatas\n",
        "my_function()"
      ],
      "metadata": {
        "colab": {
          "base_uri": "https://localhost:8080/"
        },
        "id": "tJ1cdfN-Rui-",
        "outputId": "de32c176-cab3-4530-c41f-35c07aee6875"
      },
      "execution_count": null,
      "outputs": [
        {
          "output_type": "stream",
          "name": "stdout",
          "text": [
            "Hello from a function\n"
          ]
        }
      ]
    },
    {
      "cell_type": "code",
      "source": [
        "# arguments\n",
        "def my_function(fname):\n",
        "  print(fname + \" Refsnes\")\n",
        "# mendefinisikan fungsi yang akan mecetak fname(ini dari fname tentunya) dan tulisan Refsnes\n",
        "\n",
        "# def my_function(fname):   code ini mendefinisikan fungsi my_function yang akan menerima data yang akan diisi ke fname,\n",
        "# dan isi yang telah diisi barusan akan digunakan sesuai apa yang akan dilakukan didalam fungsi tersebut\n",
        "\n",
        "my_function(\"Emil\")\n",
        "my_function(\"Tobias\")\n",
        "my_function(\"Linus\")\n",
        "# memanggil fungsi my_function yang membawa nilai (\"Emil\")/(\"Tobias\")/(\"Linus\") yang akan menjadi isi dari variable fname pada fungsi my_function(fname)"
      ],
      "metadata": {
        "colab": {
          "base_uri": "https://localhost:8080/"
        },
        "id": "ccjYFoqiR1Fr",
        "outputId": "6e33e0b1-372d-4b32-fc30-6bd71ccb4333"
      },
      "execution_count": null,
      "outputs": [
        {
          "output_type": "stream",
          "name": "stdout",
          "text": [
            "Emil Refsnes\n",
            "Tobias Refsnes\n",
            "Linus Refsnes\n"
          ]
        }
      ]
    },
    {
      "cell_type": "code",
      "source": [
        "# return values\n",
        "def my_function(x):\n",
        "  return 5 * x\n",
        "# medefinisikan fungsi dan fungsi tersubut akan mengembalikan nilai x setelah diterapkan perhitungan 5 * x\n",
        "# (x ini adalah nilai x yang di terima pada saat pemanggilan fungsi yang membawa nilai yang akan dimasukan kedalam variable x)\n",
        "\n",
        "print(my_function(3))\n",
        "print(my_function(5))\n",
        "print(my_function(9))\n",
        "# mencetak sekaligus memanggil fungsi yang membawa nilai yang akan dimasukan kedalam variable x yaitu 3, 5, 9"
      ],
      "metadata": {
        "colab": {
          "base_uri": "https://localhost:8080/"
        },
        "id": "LCW9jZ1dSXuG",
        "outputId": "dc9a3ccd-63af-4439-a71f-3b038f5fbd6e"
      },
      "execution_count": null,
      "outputs": [
        {
          "output_type": "stream",
          "name": "stdout",
          "text": [
            "15\n",
            "25\n",
            "45\n"
          ]
        }
      ]
    }
  ]
}