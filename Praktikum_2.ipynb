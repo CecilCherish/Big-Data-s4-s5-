{
  "nbformat": 4,
  "nbformat_minor": 0,
  "metadata": {
    "colab": {
      "provenance": []
    },
    "kernelspec": {
      "name": "python3",
      "display_name": "Python 3"
    },
    "language_info": {
      "name": "python"
    }
  },
  "cells": [
    {
      "cell_type": "code",
      "source": [
        "# Cecillia Cherish Mardjuki _ 825220090"
      ],
      "metadata": {
        "id": "UnHa4rGqcfPb"
      },
      "execution_count": null,
      "outputs": []
    },
    {
      "cell_type": "code",
      "source": [
        "import numpy as np\n",
        "# Menginpor library numpy sebagai np agar lebih singkat/mudah"
      ],
      "metadata": {
        "id": "8McfE3L5Ceoh"
      },
      "execution_count": null,
      "outputs": []
    },
    {
      "cell_type": "code",
      "source": [
        "data_path = \"ClassicCars.csv\"\n",
        "# Menyimpan data \"ClassicCars.csv\" ke dalam variabel data_path"
      ],
      "metadata": {
        "id": "8tS2Q-CoCi6Z"
      },
      "execution_count": null,
      "outputs": []
    },
    {
      "cell_type": "code",
      "source": [
        "types = ['U20', 'U10', 'U5', 'U20', 'U3', 'f4', 'f4', 'f4', 'f4', 'U10', 'i4', 'i4','i4','i4','i4']\n",
        "# Menyediakan tipe data untuk masing-masing kolom dalam file CSV. Misalnya, 'U20' menunjukkan string dengan panjang maksimal 20 karakter, 'f4' menunjukkan float 32-bit, dan 'i4' menunjukkan integer 32-bit."
      ],
      "metadata": {
        "id": "5wyHYRSqCmsF"
      },
      "execution_count": null,
      "outputs": []
    },
    {
      "cell_type": "code",
      "source": [
        "data = np.genfromtxt(data_path, dtype=types, delimiter=',', names=True)\n",
        "# Menggunakan fungsi genfromtxt dari numpy untuk membaca data dari file CSV.\n",
        "# Parameter yang digunakan melibatkan tipe data dtype, delimiter sebagai pemisah kolom,\n",
        "# dalam code ini yang digunakan yaitu koma, dan names=True untuk menganggap baris pertama sebagai nama kolom."
      ],
      "metadata": {
        "id": "YUIJym9OCuwe"
      },
      "execution_count": null,
      "outputs": []
    },
    {
      "cell_type": "code",
      "source": [
        "data.dtype.names\n",
        "# Untuk mengakses data/nama-nama dari kolom array"
      ],
      "metadata": {
        "colab": {
          "base_uri": "https://localhost:8080/"
        },
        "id": "1aScd_R6C0GK",
        "outputId": "069779ea-4d6d-49e2-92c9-c4f43e88f411"
      },
      "execution_count": null,
      "outputs": [
        {
          "output_type": "execute_result",
          "data": {
            "text/plain": [
              "('make',\n",
              " 'fueltype',\n",
              " 'numofdoors',\n",
              " 'bodystyle',\n",
              " 'drivewheels',\n",
              " 'wheelbase',\n",
              " 'length',\n",
              " 'width',\n",
              " 'height',\n",
              " 'numofcylinders',\n",
              " 'enginesize',\n",
              " 'horsepower',\n",
              " 'citympg',\n",
              " 'highwaympg',\n",
              " 'price')"
            ]
          },
          "metadata": {},
          "execution_count": 8
        }
      ]
    },
    {
      "cell_type": "code",
      "source": [
        "print(\"The shape of the array is: \", data.shape)\n",
        "# Mencetak tulisan \"The shape of the array is: \" dan menampilkan data dari shape yaitu jumlah array yang terbentuk"
      ],
      "metadata": {
        "colab": {
          "base_uri": "https://localhost:8080/"
        },
        "id": "po2OeuAXC4TB",
        "outputId": "12cbdef4-08b0-4a36-98a2-6557c304bea8"
      },
      "execution_count": null,
      "outputs": [
        {
          "output_type": "stream",
          "name": "stdout",
          "text": [
            "The shape of the array is:  (205,)\n"
          ]
        }
      ]
    },
    {
      "cell_type": "code",
      "source": [
        "print(data['make'])\n",
        "# mencetak isi dari kolom make, yang berisi merek mobil"
      ],
      "metadata": {
        "colab": {
          "base_uri": "https://localhost:8080/"
        },
        "id": "1aYleU8Q2vI8",
        "outputId": "79c31841-b23f-46f3-f6a9-b5884596bd39"
      },
      "execution_count": null,
      "outputs": [
        {
          "output_type": "stream",
          "name": "stdout",
          "text": [
            "['alfa-romero' 'alfa-romero' 'alfa-romero' 'audi' 'audi' 'audi' 'audi'\n",
            " 'audi' 'audi' 'audi' 'bmw' 'bmw' 'bmw' 'bmw' 'bmw' 'bmw' 'bmw' 'bmw'\n",
            " 'chevrolet' 'chevrolet' 'chevrolet' 'dodge' 'dodge' 'dodge' 'dodge'\n",
            " 'dodge' 'dodge' 'dodge' 'dodge' 'dodge' 'honda' 'honda' 'honda' 'honda'\n",
            " 'honda' 'honda' 'honda' 'honda' 'honda' 'honda' 'honda' 'honda' 'honda'\n",
            " 'isuzu' 'isuzu' 'isuzu' 'isuzu' 'jaguar' 'jaguar' 'jaguar' 'mazda'\n",
            " 'mazda' 'mazda' 'mazda' 'mazda' 'mazda' 'mazda' 'mazda' 'mazda' 'mazda'\n",
            " 'mazda' 'mazda' 'mazda' 'mazda' 'mazda' 'mazda' 'mazda' 'mercedes-benz'\n",
            " 'mercedes-benz' 'mercedes-benz' 'mercedes-benz' 'mercedes-benz'\n",
            " 'mercedes-benz' 'mercedes-benz' 'mercedes-benz' 'mercury' 'mitsubishi'\n",
            " 'mitsubishi' 'mitsubishi' 'mitsubishi' 'mitsubishi' 'mitsubishi'\n",
            " 'mitsubishi' 'mitsubishi' 'mitsubishi' 'mitsubishi' 'mitsubishi'\n",
            " 'mitsubishi' 'mitsubishi' 'nissan' 'nissan' 'nissan' 'nissan' 'nissan'\n",
            " 'nissan' 'nissan' 'nissan' 'nissan' 'nissan' 'nissan' 'nissan' 'nissan'\n",
            " 'nissan' 'nissan' 'nissan' 'nissan' 'nissan' 'peugot' 'peugot' 'peugot'\n",
            " 'peugot' 'peugot' 'peugot' 'peugot' 'peugot' 'peugot' 'peugot' 'peugot'\n",
            " 'plymouth' 'plymouth' 'plymouth' 'plymouth' 'plymouth' 'plymouth'\n",
            " 'plymouth' 'porsche' 'porsche' 'porsche' 'porsche' 'porsche' 'renault'\n",
            " 'renault' 'saab' 'saab' 'saab' 'saab' 'saab' 'saab' 'subaru' 'subaru'\n",
            " 'subaru' 'subaru' 'subaru' 'subaru' 'subaru' 'subaru' 'subaru' 'subaru'\n",
            " 'subaru' 'subaru' 'toyota' 'toyota' 'toyota' 'toyota' 'toyota' 'toyota'\n",
            " 'toyota' 'toyota' 'toyota' 'toyota' 'toyota' 'toyota' 'toyota' 'toyota'\n",
            " 'toyota' 'toyota' 'toyota' 'toyota' 'toyota' 'toyota' 'toyota' 'toyota'\n",
            " 'toyota' 'toyota' 'toyota' 'toyota' 'toyota' 'toyota' 'toyota' 'toyota'\n",
            " 'toyota' 'toyota' 'volkswagen' 'volkswagen' 'volkswagen' 'volkswagen'\n",
            " 'volkswagen' 'volkswagen' 'volkswagen' 'volkswagen' 'volkswagen'\n",
            " 'volkswagen' 'volkswagen' 'volkswagen' 'volvo' 'volvo' 'volvo' 'volvo'\n",
            " 'volvo' 'volvo' 'volvo' 'volvo' 'volvo' 'volvo' 'volvo']\n"
          ]
        }
      ]
    },
    {
      "cell_type": "code",
      "source": [
        "data['bodystyle']\n",
        "# menampilkan kolom bodystyle"
      ],
      "metadata": {
        "colab": {
          "base_uri": "https://localhost:8080/"
        },
        "id": "GF9pyVbW3mSb",
        "outputId": "b5c39de9-007b-4c3f-c522-3bd0b91f148c"
      },
      "execution_count": null,
      "outputs": [
        {
          "output_type": "execute_result",
          "data": {
            "text/plain": [
              "array(['convertible', 'convertible', 'hatchback', 'sedan', 'sedan',\n",
              "       'sedan', 'sedan', 'wagon', 'sedan', 'hatchback', 'sedan', 'sedan',\n",
              "       'sedan', 'sedan', 'sedan', 'sedan', 'sedan', 'sedan', 'hatchback',\n",
              "       'hatchback', 'sedan', 'hatchback', 'hatchback', 'hatchback',\n",
              "       'hatchback', 'sedan', 'sedan', 'sedan', 'wagon', 'hatchback',\n",
              "       'hatchback', 'hatchback', 'hatchback', 'hatchback', 'hatchback',\n",
              "       'sedan', 'wagon', 'hatchback', 'hatchback', 'sedan', 'sedan',\n",
              "       'sedan', 'sedan', 'sedan', 'sedan', 'sedan', 'hatchback', 'sedan',\n",
              "       'sedan', 'sedan', 'hatchback', 'hatchback', 'hatchback', 'sedan',\n",
              "       'sedan', 'hatchback', 'hatchback', 'hatchback', 'hatchback',\n",
              "       'hatchback', 'sedan', 'hatchback', 'sedan', 'sedan', 'hatchback',\n",
              "       'sedan', 'sedan', 'sedan', 'wagon', 'hardtop', 'sedan', 'sedan',\n",
              "       'convertible', 'sedan', 'hardtop', 'hatchback', 'hatchback',\n",
              "       'hatchback', 'hatchback', 'hatchback', 'hatchback', 'hatchback',\n",
              "       'hatchback', 'hatchback', 'hatchback', 'sedan', 'sedan', 'sedan',\n",
              "       'sedan', 'sedan', 'sedan', 'sedan', 'sedan', 'wagon', 'sedan',\n",
              "       'hatchback', 'sedan', 'wagon', 'hardtop', 'hatchback', 'sedan',\n",
              "       'sedan', 'wagon', 'sedan', 'hatchback', 'hatchback', 'hatchback',\n",
              "       'sedan', 'sedan', 'wagon', 'wagon', 'sedan', 'sedan', 'wagon',\n",
              "       'wagon', 'sedan', 'sedan', 'sedan', 'hatchback', 'hatchback',\n",
              "       'hatchback', 'sedan', 'sedan', 'wagon', 'hatchback', 'hatchback',\n",
              "       'hardtop', 'hardtop', 'convertible', 'hatchback', 'wagon',\n",
              "       'hatchback', 'hatchback', 'sedan', 'hatchback', 'sedan',\n",
              "       'hatchback', 'sedan', 'hatchback', 'hatchback', 'hatchback',\n",
              "       'sedan', 'sedan', 'sedan', 'sedan', 'sedan', 'wagon', 'wagon',\n",
              "       'wagon', 'wagon', 'hatchback', 'hatchback', 'hatchback', 'wagon',\n",
              "       'wagon', 'wagon', 'sedan', 'hatchback', 'sedan', 'hatchback',\n",
              "       'sedan', 'hatchback', 'sedan', 'sedan', 'hatchback', 'sedan',\n",
              "       'hatchback', 'hardtop', 'hardtop', 'hatchback', 'hardtop',\n",
              "       'hatchback', 'convertible', 'sedan', 'sedan', 'hatchback', 'sedan',\n",
              "       'hatchback', 'hatchback', 'hatchback', 'sedan', 'wagon', 'sedan',\n",
              "       'sedan', 'sedan', 'sedan', 'sedan', 'sedan', 'sedan',\n",
              "       'convertible', 'hatchback', 'sedan', 'sedan', 'wagon', 'sedan',\n",
              "       'wagon', 'sedan', 'wagon', 'sedan', 'wagon', 'sedan', 'sedan',\n",
              "       'sedan', 'sedan', 'sedan'], dtype='<U20')"
            ]
          },
          "metadata": {},
          "execution_count": 11
        }
      ]
    },
    {
      "cell_type": "code",
      "source": [
        "min=np.min(data['price'])\n",
        "# untuk menghitung nilai minimum dari kolom price, dan menyimpannya dalam variabel min\n",
        "max=np.max(data['price'])\n",
        "# untuk menghitung nilai maximum dari kolom price, dan menyimpannya dalam variabel max\n",
        "mean=np.mean(data['price'])\n",
        "# untuk menghitung nilai rata-rata dari kolom price, dan menyimpannya dalam variabel mean\n",
        "\n",
        "print('Min car price:', min)\n",
        "# mencetak minimum price\n",
        "print('Max car price:', max)\n",
        "# mencetak maximum price\n",
        "print('Range: ', max-min)\n",
        "# mencetak hasil dari selisih maximum dan minimum\n",
        "print('Price %.2f' % mean)\n",
        "# %f untuk nilai float, dan disini %.2f untuk menampilkan dua angka setelah koma pada nilai price\n"
      ],
      "metadata": {
        "colab": {
          "base_uri": "https://localhost:8080/"
        },
        "id": "QYJi5Gnz4QF_",
        "outputId": "b4a6af61-753b-4e80-9d95-f04bbfaa39dc"
      },
      "execution_count": null,
      "outputs": [
        {
          "output_type": "stream",
          "name": "stdout",
          "text": [
            "Min car price: 5118\n",
            "Max car price: 45400\n",
            "Range:  40282\n",
            "Price 13300.24\n"
          ]
        }
      ]
    },
    {
      "cell_type": "code",
      "source": [
        "def stdUsingNumpyOnly (prices) :\n",
        "  return np.sqrt(np.sum(np.power(np.subtract(prices, np.mean (prices)), 2))/len(prices))\n",
        "# np.sqrt : Menghitung akar kuadrat dari total jumlah kuadrat devisiasi\n",
        "# np.sum : Menjumlahkan semua kuadrat deviasi\n",
        "# np.power : Menghitung kuadrat dari setiap deviasi\n",
        "# np.subtract(prices, np.mean(prices)): Menghitung selisih antara setiap nilai harga dan nilai rata-rata, menghasilkan deviasi dari nilai rata-rata\n",
        "# np.mean(prices): Menghitung nilai rata-rata dari price\n",
        "# len(prices): Mengetahui jumlah total price / harga"
      ],
      "metadata": {
        "id": "1khJOab78WB2"
      },
      "execution_count": null,
      "outputs": []
    },
    {
      "cell_type": "code",
      "source": [
        "def stdImplementation(prices):\n",
        "  meanPrice = np.mean(prices)\n",
        "  # Menghitung nilai rata-rata dari price dan menyimpannya dalam variabel meanPrice\n",
        "  priceDiffSq = [np.power(price-meanPrice, 2) for price in prices]\n",
        "  # Menghitung kuadrat dari selisih antara setiap harga dan nilai rata-ratanya dan dismipan dalam variabel priceDiffSq\n",
        "  priceDiffAvg = np.sum(priceDiffSq)/len(prices)\n",
        "  # Menghitung rata-rata dari kuadrat price, melibatkan penjumlahan semua kuadrat deviasi dan kemudian dibagi dengan jumlah total harga\n",
        "  return np.sqrt(priceDiffAvg)\n",
        "  # Mengembalikan hasil perhitungan akar kuadrat dari nilai rata-rata kuadrat price yang telah dihitung sebelumnnya dalam fungsi stdUsingNumpyOnly\n"
      ],
      "metadata": {
        "id": "NnMASdzu9GeW"
      },
      "execution_count": null,
      "outputs": []
    },
    {
      "cell_type": "code",
      "source": [
        "print(\"Standard deviation using only numpy functions: \", stdUsingNumpyOnly(data['price']))\n",
        "# mencetak tulisan dan hasil dari pemanggilan fungsi stdUsingNumpyOnly dengan parameter price"
      ],
      "metadata": {
        "colab": {
          "base_uri": "https://localhost:8080/"
        },
        "id": "m3kz36y19l9G",
        "outputId": "dfe661af-3c03-4cbc-b1ea-08b1c1dbea3e"
      },
      "execution_count": null,
      "outputs": [
        {
          "output_type": "stream",
          "name": "stdout",
          "text": [
            "Standard deviation using only numpy functions:  7969.54140103854\n"
          ]
        }
      ]
    },
    {
      "cell_type": "code",
      "source": [
        "print(\"Standard deviation by implementing std function: \", stdImplementation(data['price']))\n",
        "# mencetak tulisan dan hasil dari pemanggilan fungsi stdImplementation dengan parameter price"
      ],
      "metadata": {
        "colab": {
          "base_uri": "https://localhost:8080/"
        },
        "id": "5FkLNcL6AFhl",
        "outputId": "070a8f2a-9260-4cd7-ac7e-f0017806ed04"
      },
      "execution_count": null,
      "outputs": [
        {
          "output_type": "stream",
          "name": "stdout",
          "text": [
            "Standard deviation by implementing std function:  7969.54140103854\n"
          ]
        }
      ]
    },
    {
      "cell_type": "code",
      "source": [
        "print(\"Standard deviation using NumPy's std function:\", np.std(data['price']))\n",
        "# mencetak tulisan dan hasil dari pemanggilan fungsi std dengan menggunakan library nupy untuk menghitung seberapa bervariasinya data price\n",
        "\n",
        "# ini saya kurang paham"
      ],
      "metadata": {
        "colab": {
          "base_uri": "https://localhost:8080/"
        },
        "id": "LDz7gElPAHIL",
        "outputId": "da31eea0-c736-4b47-b4d6-301b6be8d06d"
      },
      "execution_count": null,
      "outputs": [
        {
          "output_type": "stream",
          "name": "stdout",
          "text": [
            "Standard deviation using NumPy's std function: 7969.54140103854\n"
          ]
        }
      ]
    },
    {
      "cell_type": "code",
      "source": [
        "carsVolume = np.multiply(np.multiply(data['length'], data['height']), data['width'])\n",
        "# Membuat array carsVolume yang berisi hasil perkalian dari kolom length, height, dan width\n",
        "maxVolume = np.max(carsVolume)\n",
        "# np.max(carsVolume) untuk mencari nilai maksimum dalam array carsVolume dan lalu akan disimpan pada variabel maxVolume\n",
        "minVolume = np.min(carsVolume)\n",
        "# np.min(carsVolume) untuk mencari nilai minimum dalam array carsVolume dan lalu akan disimpan pada variabel minVolume\n",
        "carWithMaxVolume = np.argmax(carsVolume)\n",
        "# Menggunakan fungsi np.argmax() untuk mencari indeks dengan volume terbesar dalam array carsVolume dan lalu akan disimpan para variabel carWithMaxVolume\n",
        "carWithMinVolume = np.argmin(carsVolume)\n",
        "# Menggunakan fungsi np.argmin() untuk mencari indeks dengan volume terkecil dalam array carsVolume dan lalu akan disimpan para variabel carWithMinVolume\n",
        "# catatan dari ppt : np.argmax Returns the indices of the maximum values along an axis."
      ],
      "metadata": {
        "id": "1eTrnKHoAVA8"
      },
      "execution_count": null,
      "outputs": []
    },
    {
      "cell_type": "code",
      "source": [
        "print(\"Max volume:\", maxVolume, \" belongs to car \", data[carWithMaxVolume])\n",
        "# mencetak max volume dengan memangil variabel maxvolume yang sudah ada isinya dan mencetak data dari data mobil carWithMaxVolume\n",
        "print(\"Min volume:\", minVolume, \" belongs to car \", data[carWithMinVolume])\n",
        "# mencetak min volume dengan memangil variabel minvolume yang sudah ada isinya dan mencetak data dari data mobil carWithMinVolume"
      ],
      "metadata": {
        "colab": {
          "base_uri": "https://localhost:8080/"
        },
        "id": "a4PROLxdAxLH",
        "outputId": "b4c97c8c-7f02-4e8b-9c24-0a082d17666f"
      },
      "execution_count": null,
      "outputs": [
        {
          "output_type": "stream",
          "name": "stdout",
          "text": [
            "Max volume: 846007.7  belongs to car  ('mercedes-benz', 'gas', 'four', 'sedan', 'rwd', 120.9, 208.1, 71.7, 56.7, 'eight', 308, 184, 14, 16, 40960)\n",
            "Min volume: 452643.2  belongs to car  ('chevrolet', 'gas', 'two', 'hatchback', 'fwd', 88.4, 141.1, 60.3, 53.2, 'three', 61, 48, 47, 53, 5151)\n"
          ]
        }
      ]
    },
    {
      "cell_type": "code",
      "source": [
        "print(\"Unique bodystyles: \", np.unique(data['bodystyle']))\n",
        "# mencetak data yang berada pada kolom bodystyle yang unik/berbeda dari yang lain"
      ],
      "metadata": {
        "colab": {
          "base_uri": "https://localhost:8080/"
        },
        "id": "BtrK5YbwB0dr",
        "outputId": "a93242fe-b570-46ce-c9c6-09f3e54456df"
      },
      "execution_count": null,
      "outputs": [
        {
          "output_type": "stream",
          "name": "stdout",
          "text": [
            "Unique bodystyles:  ['convertible' 'hardtop' 'hatchback' 'sedan' 'wagon']\n"
          ]
        }
      ]
    },
    {
      "cell_type": "code",
      "source": [
        "uniqueCarMakes = np.unique(data['make'])\n",
        "\n",
        "print(\"There are \", len(uniqueCarMakes), \"unique car makes which are:\", uniqueCarMakes)"
      ],
      "metadata": {
        "colab": {
          "base_uri": "https://localhost:8080/"
        },
        "id": "CtT06K_nC1bB",
        "outputId": "4ff1b118-592c-451b-ed98-fef01e7bbc6b"
      },
      "execution_count": null,
      "outputs": [
        {
          "output_type": "stream",
          "name": "stdout",
          "text": [
            "There are  22 unique car makes which are: ['alfa-romero' 'audi' 'bmw' 'chevrolet' 'dodge' 'honda' 'isuzu' 'jaguar'\n",
            " 'mazda' 'mercedes-benz' 'mercury' 'mitsubishi' 'nissan' 'peugot'\n",
            " 'plymouth' 'porsche' 'renault' 'saab' 'subaru' 'toyota' 'volkswagen'\n",
            " 'volvo']\n"
          ]
        }
      ]
    },
    {
      "cell_type": "code",
      "source": [
        "fuelDiff = np.subtract(data['highwaympg'], data['citympg'])\n",
        "minFuelDiff = np.min(fuelDiff)\n",
        "maxFuelDiff = np.max(fuelDiff)\n",
        "carWithMinFuelDiff = np.argmin(fuelDiff)\n",
        "carWithMaxFuelDiff = np.argmax(fuelDiff)"
      ],
      "metadata": {
        "id": "sA6QgI7ODNPa"
      },
      "execution_count": null,
      "outputs": []
    },
    {
      "cell_type": "code",
      "source": [
        "print(\"A %s with engine size=%d and horsepower=%d has the minimum fuel difference (%d) when driven in the city and the highway\" %\n",
        "      # Ini adalah string format yang menggunakan operator % untuk menyematkan nilai variabel ke dalam string\n",
        "       (data['make'][carWithMinFuelDiff], data[\"enginesize\"][carWithMinFuelDiff],data['horsepower'][carWithMinFuelDiff], minFuelDiff))\n",
        "# ini yang mengantikan formatnya\n",
        "# mengambil data dan menampilkan, data dari kolom make, data dari kolom enginesize, data dari horsepower yang dimana carWithMinFuelDiff(mobil dengan minimial fuell diff)\n",
        "\n",
        "print(\"A %s with engine size=%d and horsepower=%d has the maximum fuel difference (%d) when driven in the city and the highway\" %\n",
        "      # Ini adalah string format yang menggunakan operator % untuk menyematkan nilai variabel ke dalam string\n",
        "       (data['make'][carWithMaxFuelDiff], data[\"enginesize\"][carWithMaxFuelDiff],data['horsepower'][carWithMaxFuelDiff], maxFuelDiff))\n",
        "# ini yang mengantikan formatnya\n",
        "# mengambil data dan menampilkan, data dari kolom make, data dari kolom enginesize, data dari horsepower yang dimana carWithMaxFuelDiff(mobil dengan maximal fuell diff)\n",
        "\n",
        "# Catatan :\n",
        "# d% itu integer\n",
        "# s% itu string"
      ],
      "metadata": {
        "colab": {
          "base_uri": "https://localhost:8080/"
        },
        "id": "W6zn_9XcDu0k",
        "outputId": "1dda0987-d044-4235-a0e4-60bd4e8ae9bd"
      },
      "execution_count": null,
      "outputs": [
        {
          "output_type": "stream",
          "name": "stdout",
          "text": [
            "A peugot with engine size=152 and horsepower=95 has the minimum fuel difference (0) when driven in the city and the highway\n",
            "A porsche with engine size=203 and horsepower=288 has the maximum fuel difference (11) when driven in the city and the highway\n"
          ]
        }
      ]
    },
    {
      "cell_type": "code",
      "source": [
        "makes,counts = np.unique(data['make'], return_counts=True)\n",
        "# np.unique untuk mendapatkan nilai unik dari data pada kolom make yang akan disimpan pada variabel makes, dan untuk return_counts-true yang berati hasil pengembalian akan dihitung yang unik saja dan dimasukan kedalam variable counts\n",
        "maxCarsSameMake = np.argmax(counts)\n",
        "# np.argmax untuk menemukan indeks yang memiliki jumlah terbanyak dalam array counts\n",
        "make = makes[maxCarsSameMake]\n",
        "# Menentukan merek mobil dari array makes yang memiliki jumlah mobil terbanyak dengan menggunakan indeks yang ditemukan sebelumnya\n",
        "\n",
        "print(\"The company has %d %s cars \" % (np.max(counts), make))\n",
        "# mencetak banyaknya mobil menggunakan np.max untuk nilai maximal pada data counts dan nama mobil terbanyak di kolom make\n",
        "\n",
        "# Catatan :\n",
        "# d% itu integer\n",
        "# s% itu string"
      ],
      "metadata": {
        "colab": {
          "base_uri": "https://localhost:8080/"
        },
        "id": "0mf-vSfEE2-K",
        "outputId": "f1243e29-880c-4fdf-843b-11d7b5aa89c9"
      },
      "execution_count": null,
      "outputs": [
        {
          "output_type": "stream",
          "name": "stdout",
          "text": [
            "The company has 32 toyota cars \n"
          ]
        }
      ]
    },
    {
      "cell_type": "code",
      "source": [
        "carsWithLargeWheelBase = np.count_nonzero(data['wheelbase']>100)\n",
        "# menhitung data dari kolom wheelbase yang diatas 100, dan np.count_nonzero untuk menghitung index datanya tapi tidak mengambil nilai nol dan lalu di simpan ke variable carsWithLargeWheelBase\n",
        "\n",
        "print(\"There are %d cars whose wheel base is greater than 100\" % (carsWithLargeWheelBase))\n",
        "# mencetak tulisan serta data yang diambil dari carsWithLargeWheelBase"
      ],
      "metadata": {
        "colab": {
          "base_uri": "https://localhost:8080/"
        },
        "id": "mB5yQA5CFFou",
        "outputId": "9db33c5c-a2c5-4b6b-b4d0-ab4aa345e2e5"
      },
      "execution_count": null,
      "outputs": [
        {
          "output_type": "stream",
          "name": "stdout",
          "text": [
            "There are 63 cars whose wheel base is greater than 100\n"
          ]
        }
      ]
    },
    {
      "cell_type": "code",
      "source": [
        "np.count_nonzero(data['wheelbase']<88.6)\n",
        "# menghitung data dari wheelbase yang dibawah 88.6, np.count_nonzero untuk menghitung index datanya tapi tidak mengambil nilai nol\n",
        "np.count_nonzero(data['wheelbase']==110)\n",
        "# menghitung data dari wheelbase yang nilainya 110, np.count_nonzero untuk menghitung index datanya tapi tidak mengambil nilai nol"
      ],
      "metadata": {
        "colab": {
          "base_uri": "https://localhost:8080/"
        },
        "id": "yOjxc2D2JUHi",
        "outputId": "0205fa7b-4b52-43f7-b531-74fac607991d"
      },
      "execution_count": null,
      "outputs": [
        {
          "output_type": "execute_result",
          "data": {
            "text/plain": [
              "3"
            ]
          },
          "metadata": {},
          "execution_count": 24
        }
      ]
    },
    {
      "cell_type": "code",
      "source": [
        "cheapConvertibles = data[(data['bodystyle']==\"convertible\") & (data['price']<15000)]\n",
        "# data yang diinginkan yaitu kolom bodystyle convertible dan data harganya dibawah 15000, lalu data yang telah ditemuakan akan dimasukan kedalam variable cheapConvertibles\n",
        "print(\"Details of convertibles that cost less than £15000:\\n\", cheapConvertibles)\n",
        "# mencetak tulisan dan memanggil/mengambil data dari cheapConvertibles tadi"
      ],
      "metadata": {
        "colab": {
          "base_uri": "https://localhost:8080/"
        },
        "id": "zTTESn-7Jztu",
        "outputId": "be62fb86-0766-4396-e7cc-2afc59aa76c1"
      },
      "execution_count": null,
      "outputs": [
        {
          "output_type": "stream",
          "name": "stdout",
          "text": [
            "Details of convertibles that cost less than £15000:\n",
            " [('alfa-romero', 'gas', 'two', 'convertible', 'rwd', 88.6, 168.8, 64.1, 48.8, 'four', 130, 111, 21, 27, 13495)\n",
            " ('volkswagen', 'gas', 'two', 'convertible', 'fwd', 94.5, 159.3, 64.2, 55.6, 'four', 109,  90, 24, 29, 11595)]\n"
          ]
        }
      ]
    },
    {
      "cell_type": "code",
      "source": [
        "Q3P = np.percentile(data['price'], 75) #Third quartile\n",
        "# np.percentile untuk menghitung nilai persentil ke 75 dari kolom price dan akan di simpan pada variable Q3P\n",
        "Q1P = np.percentile(data['price'], 25) #First quartile\n",
        "# np.percentile untuk menghitung nilai persentil ke 25 dari kolom price dan akan di simpan pada variable Q1P\n",
        "IQRP = Q3P - Q1P #Inter Quartile Range\n",
        "# menghitung hasil dari pengurangan Q3P dan Q1P dan hasilnya akan disimpan di variable IQRP\n",
        "\n",
        "print('Price IQR:', IQRP)\n",
        "# mencetak tulisan dan isi dari IQRP tadi"
      ],
      "metadata": {
        "colab": {
          "base_uri": "https://localhost:8080/"
        },
        "id": "Ba8D9QeoW-gs",
        "outputId": "55a73cc7-3387-4991-ed8a-61f11133e71d"
      },
      "execution_count": null,
      "outputs": [
        {
          "output_type": "stream",
          "name": "stdout",
          "text": [
            "Price IQR: 8715.0\n"
          ]
        }
      ]
    },
    {
      "cell_type": "code",
      "source": [
        "percentile50HP = np.percentile(data['horsepower'], 50) #50th percentile\n",
        "# np.percentile untuk menghitung nilai persentil ke 50 dari kolom price dan akan di simpan pada variable percentile50HP\n",
        "\n",
        "print('Horsepower 50th percentile:', percentile50HP)\n",
        "# mencetak tulisan serta hasil/isi dari percentile50HP\n",
        "print(\"Median horsepower:\", np.median(data['horsepower']))\n",
        "# mencetak tulisan serta data dari kolom horsepower yang dijadikan median karena ada np.median"
      ],
      "metadata": {
        "colab": {
          "base_uri": "https://localhost:8080/"
        },
        "id": "EaLdPm0LX_u0",
        "outputId": "8f9ccf55-7290-4f4e-97f9-5f70acf9f94d"
      },
      "execution_count": null,
      "outputs": [
        {
          "output_type": "stream",
          "name": "stdout",
          "text": [
            "Horsepower 50th percentile: 95.0\n",
            "Median horsepower: 95.0\n"
          ]
        }
      ]
    }
  ]
}